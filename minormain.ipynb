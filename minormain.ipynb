{
 "cells": [
  {
   "cell_type": "code",
   "execution_count": 1,
   "id": "851149bf",
   "metadata": {},
   "outputs": [],
   "source": [
    "import pandas as pd\n",
    "import numpy as np\n",
    "import matplotlib.pyplot as plt\n",
    "import os, shutil\n",
    "import cv2\n",
    "import matplotlib.image as mpimg\n",
    "import seaborn as sns\n",
    "%matplotlib inline \n",
    "plt.style.use('ggplot')"
   ]
  },
  {
   "cell_type": "code",
   "execution_count": 2,
   "id": "1f0ad0b5",
   "metadata": {},
   "outputs": [
    {
     "name": "stdout",
     "output_type": "stream",
     "text": [
      "Requirement already satisfied: scipy in c:\\users\\trnad\\anaconda3\\lib\\site-packages (1.13.1)\n",
      "Requirement already satisfied: numpy<2.3,>=1.22.4 in c:\\users\\trnad\\anaconda3\\lib\\site-packages (from scipy) (1.26.4)\n",
      "Note: you may need to restart the kernel to use updated packages.\n"
     ]
    }
   ],
   "source": []
  },
  {
   "cell_type": "code",
   "execution_count": null,
   "id": "af43d721",
   "metadata": {},
   "outputs": [],
   "source": []
  },
  {
   "cell_type": "code",
   "execution_count": 3,
   "id": "4a096e1b",
   "metadata": {},
   "outputs": [],
   "source": [
    "import zipfile\n",
    "z=zipfile.ZipFile(\"TumorDataSet.zip\")\n",
    "z.extractall()"
   ]
  },
  {
   "cell_type": "code",
   "execution_count": 4,
   "id": "3d77d6b6",
   "metadata": {},
   "outputs": [
    {
     "ename": "FileExistsError",
     "evalue": "[WinError 183] Cannot create a file when that file already exists: 'yes/y0.jpg' -> 'yes/Y_1.jpg'",
     "output_type": "error",
     "traceback": [
      "\u001b[1;31m---------------------------------------------------------------------------\u001b[0m",
      "\u001b[1;31mFileExistsError\u001b[0m                           Traceback (most recent call last)",
      "\u001b[1;32m~\\AppData\\Local\\Temp\\ipykernel_22680\\444094153.py\u001b[0m in \u001b[0;36m<module>\u001b[1;34m\u001b[0m\n\u001b[0;32m      5\u001b[0m     \u001b[0msource\u001b[0m\u001b[1;33m=\u001b[0m\u001b[0mfolder\u001b[0m \u001b[1;33m+\u001b[0m \u001b[0mfilename\u001b[0m\u001b[1;33m\u001b[0m\u001b[1;33m\u001b[0m\u001b[0m\n\u001b[0;32m      6\u001b[0m     \u001b[0mdestination\u001b[0m\u001b[1;33m=\u001b[0m\u001b[0mfolder\u001b[0m \u001b[1;33m+\u001b[0m \u001b[1;34m\"Y_\"\u001b[0m \u001b[1;33m+\u001b[0m \u001b[0mstr\u001b[0m\u001b[1;33m(\u001b[0m\u001b[0mcount\u001b[0m\u001b[1;33m)\u001b[0m \u001b[1;33m+\u001b[0m \u001b[1;34m'.jpg'\u001b[0m\u001b[1;33m\u001b[0m\u001b[1;33m\u001b[0m\u001b[0m\n\u001b[1;32m----> 7\u001b[1;33m     \u001b[0mos\u001b[0m\u001b[1;33m.\u001b[0m\u001b[0mrename\u001b[0m\u001b[1;33m(\u001b[0m\u001b[0msource\u001b[0m\u001b[1;33m,\u001b[0m \u001b[0mdestination\u001b[0m\u001b[1;33m)\u001b[0m\u001b[1;33m\u001b[0m\u001b[1;33m\u001b[0m\u001b[0m\n\u001b[0m\u001b[0;32m      8\u001b[0m     \u001b[0mcount\u001b[0m\u001b[1;33m+=\u001b[0m\u001b[1;36m1\u001b[0m\u001b[1;33m\u001b[0m\u001b[1;33m\u001b[0m\u001b[0m\n\u001b[0;32m      9\u001b[0m \u001b[1;33m\u001b[0m\u001b[0m\n",
      "\u001b[1;31mFileExistsError\u001b[0m: [WinError 183] Cannot create a file when that file already exists: 'yes/y0.jpg' -> 'yes/Y_1.jpg'"
     ]
    }
   ],
   "source": [
    "#data preprocessing\n",
    "folder='yes/'\n",
    "count=1\n",
    "for filename in os.listdir(folder):\n",
    "    source=folder + filename\n",
    "    destination=folder + \"Y_\" + str(count) + '.jpg'\n",
    "    os.rename(source, destination)\n",
    "    count+=1\n",
    "    \n",
    "print(\"All files are renamed in the yes directory\")"
   ]
  },
  {
   "cell_type": "code",
   "execution_count": 5,
   "id": "70c1695a",
   "metadata": {},
   "outputs": [
    {
     "ename": "FileExistsError",
     "evalue": "[WinError 183] Cannot create a file when that file already exists: 'no/no0.jpg' -> 'no/N_1.jpg'",
     "output_type": "error",
     "traceback": [
      "\u001b[1;31m---------------------------------------------------------------------------\u001b[0m",
      "\u001b[1;31mFileExistsError\u001b[0m                           Traceback (most recent call last)",
      "\u001b[1;32m~\\AppData\\Local\\Temp\\ipykernel_22680\\3665506015.py\u001b[0m in \u001b[0;36m<module>\u001b[1;34m\u001b[0m\n\u001b[0;32m      5\u001b[0m     \u001b[0msource\u001b[0m\u001b[1;33m=\u001b[0m\u001b[0mfolder\u001b[0m \u001b[1;33m+\u001b[0m \u001b[0mfilename\u001b[0m\u001b[1;33m\u001b[0m\u001b[1;33m\u001b[0m\u001b[0m\n\u001b[0;32m      6\u001b[0m     \u001b[0mdestination\u001b[0m\u001b[1;33m=\u001b[0m\u001b[0mfolder\u001b[0m \u001b[1;33m+\u001b[0m \u001b[1;34m\"N_\"\u001b[0m \u001b[1;33m+\u001b[0m \u001b[0mstr\u001b[0m\u001b[1;33m(\u001b[0m\u001b[0mcount\u001b[0m\u001b[1;33m)\u001b[0m \u001b[1;33m+\u001b[0m \u001b[1;34m'.jpg'\u001b[0m\u001b[1;33m\u001b[0m\u001b[1;33m\u001b[0m\u001b[0m\n\u001b[1;32m----> 7\u001b[1;33m     \u001b[0mos\u001b[0m\u001b[1;33m.\u001b[0m\u001b[0mrename\u001b[0m\u001b[1;33m(\u001b[0m\u001b[0msource\u001b[0m\u001b[1;33m,\u001b[0m \u001b[0mdestination\u001b[0m\u001b[1;33m)\u001b[0m\u001b[1;33m\u001b[0m\u001b[1;33m\u001b[0m\u001b[0m\n\u001b[0m\u001b[0;32m      8\u001b[0m     \u001b[0mcount\u001b[0m\u001b[1;33m+=\u001b[0m\u001b[1;36m1\u001b[0m\u001b[1;33m\u001b[0m\u001b[1;33m\u001b[0m\u001b[0m\n\u001b[0;32m      9\u001b[0m \u001b[1;33m\u001b[0m\u001b[0m\n",
      "\u001b[1;31mFileExistsError\u001b[0m: [WinError 183] Cannot create a file when that file already exists: 'no/no0.jpg' -> 'no/N_1.jpg'"
     ]
    }
   ],
   "source": [
    "#data preprocessing\n",
    "folder='no/'\n",
    "count=1\n",
    "for filename in os.listdir(folder):\n",
    "    source=folder + filename\n",
    "    destination=folder + \"N_\" + str(count) + '.jpg'\n",
    "    os.rename(source, destination)\n",
    "    count+=1\n",
    "    \n",
    "print(\"All files are renamed in the no directory\")"
   ]
  },
  {
   "cell_type": "code",
   "execution_count": 6,
   "id": "c82d3b63",
   "metadata": {},
   "outputs": [
    {
     "name": "stdout",
     "output_type": "stream",
     "text": [
      "3000\n",
      "3000\n"
     ]
    }
   ],
   "source": [
    "listyes = os.listdir('yes/')\n",
    "number_files_yes = len(listyes)\n",
    "print(number_files_yes)\n",
    "\n",
    "listyes = os.listdir('no/')\n",
    "number_files_no = len(listyes)\n",
    "print(number_files_no)"
   ]
  },
  {
   "cell_type": "code",
   "execution_count": 7,
   "id": "428f6f0a",
   "metadata": {},
   "outputs": [
    {
     "data": {
      "image/png": "[encoded data removed]",
      "text/plain": [
       "<Figure size 500x700 with 1 Axes>"
      ]
     },
     "metadata": {},
     "output_type": "display_data"
    }
   ],
   "source": [
    "data={'tumorous': number_files_yes,'non-tumours': number_files_no}\n",
    "typex = data.keys()\n",
    "values = data.values() \n",
    "\n",
    "\n",
    "fig = plt.figure(figsize=(5,7))\n",
    "plt.bar(typex, values, color='red')\n",
    "plt.xlabel('Data')\n",
    "plt.ylabel('No of brain Tumour Images')\n",
    "plt.title(\"Count Of Brain Tumor Images\")\n",
    "plt.show()"
   ]
  },
  {
   "cell_type": "code",
   "execution_count": 18,
   "id": "930ef6c1",
   "metadata": {},
   "outputs": [],
   "source": [
    "import tensorflow as tf\n",
    "from tensorflow.keras.preprocessing.image import ImageDataGenerator\n",
    "from tensorflow.keras.models import Model\n",
    "from tensorflow.keras.layers import Flatten, Dense, Dropout\n",
    "from tensorflow.keras.applications.vgg19 import VGG19\n",
    "from tensorflow.keras.optimizers import SGD, Adam\n",
    "from tensorflow.keras.callbacks import ModelCheckpoint, EarlyStopping,  ReduceLROnPlateau\n",
    "from tensorflow.keras.preprocessing.image import ImageDataGenerator"
   ]
  },
  {
   "cell_type": "code",
   "execution_count": 19,
   "id": "997015ab",
   "metadata": {},
   "outputs": [],
   "source": [
    "def timing(sec_elapsed):\n",
    "    h=int(sec_elapsed / (60*60))\n",
    "    m=int(sec_elapsed % (60*60) / 60)\n",
    "    s=sec_elapsed % 60\n",
    "    \n",
    "    return f\"{h}:{m}:{s}\""
   ]
  },
  {
   "cell_type": "code",
   "execution_count": 20,
   "id": "a9a35092",
   "metadata": {},
   "outputs": [],
   "source": [
    "def augmented_data(file_dir, n_generated_samples, save_to_dir):\n",
    "    data_gen = ImageDataGenerator(rotation_range=10, \n",
    "                      width_shift_range=0.1,\n",
    "                      height_shift_range=0.1,\n",
    "                      shear_range=0.1,\n",
    "                      brightness_range=(0.3, 1.0),\n",
    "                      horizontal_flip=True,\n",
    "                      vertical_flip=True,\n",
    "                      fill_mode='nearest')\n",
    "    for filename in os.listdir(file_dir):\n",
    "        image = cv2.imread(file_dir + '/' + filename)\n",
    "        image = image.reshape((1,) + image.shape)\n",
    "        save_prefix = 'aug_' + filename[:-4]\n",
    "        i=0\n",
    "        for batch in data_gen.flow(x = image, batch_size = 1, save_to_dir = save_to_dir, save_prefix = save_prefix, save_format = \"jpg\"):\n",
    "            i+=1\n",
    "            if i>n_generated_samples:\n",
    "                break"
   ]
  },
  {
   "cell_type": "code",
   "execution_count": 21,
   "id": "9c38a12b",
   "metadata": {
    "scrolled": true
   },
   "outputs": [
    {
     "name": "stdout",
     "output_type": "stream",
     "text": [
      "0:4:33.69606423377991\n"
     ]
    }
   ],
   "source": [
    "import time\n",
    "start_time = time.time()\n",
    "\n",
    "yes_path = 'yes' \n",
    "no_path = 'no'\n",
    "\n",
    "augmented_data_path = 'augmented_data/'\n",
    "\n",
    "augmented_data(file_dir = yes_path, n_generated_samples=2, save_to_dir=augmented_data_path+'yes')\n",
    "augmented_data(file_dir = no_path, n_generated_samples=2, save_to_dir=augmented_data_path+'no')\n",
    "\n",
    "end_time = time.time()\n",
    "execution_time = end_time - start_time\n",
    "print(timing(execution_time))"
   ]
  },
  {
   "cell_type": "code",
   "execution_count": null,
   "id": "d8049cf9",
   "metadata": {},
   "outputs": [],
   "source": []
  },
  {
   "cell_type": "code",
   "execution_count": null,
   "id": "aeb570b2",
   "metadata": {},
   "outputs": [],
   "source": []
  },
  {
   "cell_type": "code",
   "execution_count": null,
   "id": "c023e890",
   "metadata": {},
   "outputs": [],
   "source": []
  },
  {
   "cell_type": "code",
   "execution_count": null,
   "id": "2b13b8d4",
   "metadata": {},
   "outputs": [],
   "source": []
  },
  {
   "cell_type": "code",
   "execution_count": 28,
   "id": "18efaf21",
   "metadata": {},
   "outputs": [],
   "source": [
    "def data_summary(main_path):\n",
    "    yes_path = 'augmented_data/yes/'\n",
    "    no_path = 'augmented_data/no/'\n",
    "    n_pos=len(os.listdir(yes_path))\n",
    "    n_neg=len(os.listdir(no_path))\n",
    "    \n",
    "    n = (n_pos + n_neg)\n",
    "    \n",
    "    pos_per = (n_pos*100)/n\n",
    "    neg_per = (n_neg*100)/n\n",
    "    print(f\"Number of sample:{n}\")\n",
    "    print(f\"{n_pos} Number of positive in %:{pos_per}%\")\n",
    "    print(f\"{n_neg} Number of negative in %{neg_per}%\")\n",
    "    \n",
    "    \n",
    "    "
   ]
  },
  {
   "cell_type": "code",
   "execution_count": 29,
   "id": "ee53c4b3",
   "metadata": {},
   "outputs": [
    {
     "name": "stdout",
     "output_type": "stream",
     "text": [
      "Number of sample:9000\n",
      "4500 Number of positive in %:50.0%\n",
      "4500 Number of negative in %50.0%\n"
     ]
    }
   ],
   "source": [
    "data_summary(augumented_data_path)"
   ]
  },
  {
   "cell_type": "code",
   "execution_count": 31,
   "id": "f4fa814c",
   "metadata": {},
   "outputs": [
    {
     "name": "stdout",
     "output_type": "stream",
     "text": [
      "4500\n",
      "4500\n"
     ]
    }
   ],
   "source": [
    "listyes = os.listdir('augmented_data/yes/')\n",
    "number_files_yes = len(listyes)\n",
    "print(number_files_yes)\n",
    "\n",
    "listyes = os.listdir('augmented_data/no/')\n",
    "number_files_no = len(listyes)\n",
    "print(number_files_no)"
   ]
  },
  {
   "cell_type": "code",
   "execution_count": 32,
   "id": "afaf76c7",
   "metadata": {},
   "outputs": [
    {
     "data": {
      "image/png": "[encoded data removed]",
      "text/plain": [
       "<Figure size 500x700 with 1 Axes>"
      ]
     },
     "metadata": {},
     "output_type": "display_data"
    }
   ],
   "source": [
    "data={'tumorous': number_files_yes,'non-tumours': number_files_no}\n",
    "typex = data.keys()\n",
    "values = data.values() \n",
    "\n",
    "\n",
    "fig = plt.figure(figsize=(5,7))\n",
    "plt.bar(typex, values, color='red')\n",
    "plt.xlabel('Data')\n",
    "plt.ylabel('No of brain Tumour Images')\n",
    "plt.title(\"Count Of Brain Tumor Images\")\n",
    "plt.show()"
   ]
  },
  {
   "cell_type": "code",
   "execution_count": null,
   "id": "53f1d7da",
   "metadata": {},
   "outputs": [],
   "source": [
    "Data Preprocessing"
   ]
  }
 ],
 "metadata": {
  "kernelspec": {
   "display_name": "Python 3 (ipykernel)",
   "language": "python",
   "name": "python3"
  },
  "language_info": {
   "codemirror_mode": {
    "name": "ipython",
    "version": 3
   },
   "file_extension": ".py",
   "mimetype": "text/x-python",
   "name": "python",
   "nbconvert_exporter": "python",
   "pygments_lexer": "ipython3",
   "version": "3.9.13"
  }
 },
 "nbformat": 4,
 "nbformat_minor": 5
}
